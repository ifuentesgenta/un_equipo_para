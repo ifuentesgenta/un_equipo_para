{
 "cells": [
  {
   "cell_type": "markdown",
   "id": "dfa3c378-2807-45c5-85ad-e3e8ac386fe9",
   "metadata": {},
   "source": [
    "## Scrapping data de Facundo Pellistri"
   ]
  },
  {
   "cell_type": "code",
   "execution_count": 9,
   "id": "135e0805-f004-43a8-a343-1816d78a5d5c",
   "metadata": {},
   "outputs": [],
   "source": [
    "import requests\n",
    "from bs4 import BeautifulSoup\n",
    "import pandas as pd\n",
    "\n",
    "url = \"https://fbref.com/en/players/ac7e7b1c/Facundo-Pellistri\"\n",
    "page = requests.get(url)\n",
    "soup = BeautifulSoup(page.content)\n",
    "\n"
   ]
  },
  {
   "cell_type": "code",
   "execution_count": 10,
   "id": "40063887-57fc-4e78-975d-b5b8d42f608e",
   "metadata": {},
   "outputs": [],
   "source": [
    "\n",
    "id_elements_to_get = [\"all_stats_standard\", \"all_stats_shooting\",\"all_stats_passing\", \"all_stats_passing_types\", \"all_stats_gca\", \n",
    "                      \"all_stats_defense\", \"all_stats_possession\", \"all_stats_playing_time\"]"
   ]
  },
  {
   "cell_type": "code",
   "execution_count": 11,
   "id": "587e02b0-12ca-42c8-aec4-017ec7c002bc",
   "metadata": {},
   "outputs": [],
   "source": [
    "def get_stats(stats_table):\n",
    "    stats = {}\n",
    "    for i, data in enumerate(stats_table.find_all(\"tr\", id=\"stats\")):\n",
    "        year = data.find(\"th\").text\n",
    "        team = data.find(\"td\", {\"data-stat\": \"team\"}).text\n",
    "        stats[f\"{year}-{team}\"] = {}\n",
    "        for cell in data.find_all(\"td\"):       \n",
    "            stats[f\"{year}-{team}\"][cell.get(\"data-stat\")] = cell.text  \n",
    "    return stats"
   ]
  },
  {
   "cell_type": "code",
   "execution_count": 12,
   "id": "0d540768-05f5-438a-8aa3-dd504fa902bd",
   "metadata": {},
   "outputs": [],
   "source": [
    "def build_dataset(soup, tags):\n",
    "    data = {}\n",
    "    for tag in tags:\n",
    "        stats_div = soup.find(\"div\", id=tag)\n",
    "        stats_table = stats_div.find(\"tbody\")\n",
    "        if tag not in data:\n",
    "            data[tag] = {}\n",
    "        data[tag] = get_stats(stats_table)\n",
    "    return data"
   ]
  },
  {
   "cell_type": "code",
   "execution_count": 13,
   "id": "78e0b030-b948-4d15-91d8-04358cfe6abc",
   "metadata": {},
   "outputs": [],
   "source": [
    "dataset = build_dataset(soup, id_elements_to_get)"
   ]
  },
  {
   "cell_type": "code",
   "execution_count": 16,
   "id": "b3ca11a5-b989-44da-b9e5-b5813760666c",
   "metadata": {},
   "outputs": [],
   "source": [
    "all_stats_standard = pd.DataFrame.from_dict(dataset[\"all_stats_standard\"], orient='index')\n",
    "all_stats_shooting = pd.DataFrame.from_dict(dataset[\"all_stats_shooting\"], orient='index')\n",
    "all_stats_passing = pd.DataFrame.from_dict(dataset[\"all_stats_passing\"], orient='index')\n",
    "all_stats_passing_types = pd.DataFrame.from_dict(dataset[\"all_stats_passing_types\"], orient='index')\n",
    "all_stats_gca = pd.DataFrame.from_dict(dataset[\"all_stats_gca\"], orient='index')\n",
    "all_stats_defense = pd.DataFrame.from_dict(dataset[\"all_stats_defense\"], orient='index')\n",
    "all_stats_possession = pd.DataFrame.from_dict(dataset[\"all_stats_possession\"], orient='index')\n",
    "all_stats_playing_time = pd.DataFrame.from_dict(dataset[\"all_stats_playing_time\"], orient='index')\n"
   ]
  },
  {
   "cell_type": "markdown",
   "id": "85ae06a2-c61a-4fed-b3aa-72fa9c5fc4fd",
   "metadata": {},
   "source": [
    "## Scrapping data de equipos de Europa"
   ]
  },
  {
   "cell_type": "markdown",
   "id": "c3100b9f-82d1-44cd-be3a-31918f7a7695",
   "metadata": {},
   "source": [
    "#### Primero necesitamos ir por cada una de las cinco ligas grandes de Europa y obtener la url de cada equipo"
   ]
  },
  {
   "cell_type": "code",
   "execution_count": 20,
   "id": "c786aa14-734e-43cc-9ee8-dba7a9995194",
   "metadata": {},
   "outputs": [],
   "source": [
    "url_leagues = {\n",
    "    \"premier_league\":\"https://fbref.com/es/comps/9/Estadisticas-de-Premier-League\",\n",
    "    \"la_liga\":\"https://fbref.com/es/comps/12/Estadisticas-de-La-Liga\",\n",
    "    \"ligue_1\":\"https://fbref.com/es/comps/13/Estadisticas-de-Ligue-1\",\n",
    "    \"serie_a\":\"https://fbref.com/es/comps/11/Estadisticas-de-Serie-A\",\n",
    "    \"bundesliga\":\"https://fbref.com/es/comps/20/Estadisticas-de-Bundesliga\"\n",
    "}"
   ]
  },
  {
   "cell_type": "code",
   "execution_count": 70,
   "id": "49b44519-0be3-4361-b47b-4147eac44381",
   "metadata": {},
   "outputs": [],
   "source": [
    "def get_teams_url(league_url):\n",
    "    page = requests.get(league_url)\n",
    "    soup = BeautifulSoup(page.content)\n",
    "    url_fixed_path = \"https://fbref.com/\"\n",
    "    positions_table = soup.find(\"table\", {\"class\": \"stats_table\"})\n",
    "    team_cells = positions_table.find_all(\"td\", {\"data-stat\": \"team\"})\n",
    "\n",
    "    teams_url = {}\n",
    "    for cell in team_cells:\n",
    "        team_ref = cell.find(\"a\")\n",
    "        teams_url[team_ref.text] = f\"{url_fixed_path}{team_ref['href']}\"\n",
    "    return teams_url\n",
    "    "
   ]
  },
  {
   "cell_type": "code",
   "execution_count": 71,
   "id": "17aa4fa3-d847-48f9-818b-2a7b313fc19f",
   "metadata": {},
   "outputs": [],
   "source": [
    "url_teams = {}\n",
    "for league, url in url_leagues.items():\n",
    "    url_teams[league] = get_teams_url(url)\n",
    "            \n",
    "    "
   ]
  },
  {
   "cell_type": "code",
   "execution_count": 72,
   "id": "c8f8f03f-f262-4ce8-a9ee-503fd7f983cb",
   "metadata": {},
   "outputs": [
    {
     "data": {
      "text/plain": [
       "{'premier_league': {'Liverpool': 'https://fbref.com//es/equipos/822bd0ba/Estadisticas-de-Liverpool',\n",
       "  'Manchester City': 'https://fbref.com//es/equipos/b8fd03ef/Estadisticas-de-Manchester-City',\n",
       "  'Arsenal': 'https://fbref.com//es/equipos/18bb7c10/Estadisticas-de-Arsenal',\n",
       "  'Aston Villa': 'https://fbref.com//es/equipos/8602292d/Estadisticas-de-Aston-Villa',\n",
       "  'Tottenham': 'https://fbref.com//es/equipos/361ca564/Estadisticas-de-Tottenham-Hotspur',\n",
       "  'West Ham': 'https://fbref.com//es/equipos/7c21e445/Estadisticas-de-West-Ham-United',\n",
       "  'Manchester Utd': 'https://fbref.com//es/equipos/19538871/Estadisticas-de-Manchester-United',\n",
       "  'Brighton': 'https://fbref.com//es/equipos/d07537b9/Estadisticas-de-Brighton-and-Hove-Albion',\n",
       "  'Chelsea': 'https://fbref.com//es/equipos/cff3d9bb/Estadisticas-de-Chelsea',\n",
       "  'Newcastle Utd': 'https://fbref.com//es/equipos/b2b47a98/Estadisticas-de-Newcastle-United',\n",
       "  'Wolves': 'https://fbref.com//es/equipos/8cec06e1/Estadisticas-de-Wolverhampton-Wanderers',\n",
       "  'Bournemouth': 'https://fbref.com//es/equipos/4ba7cbea/Estadisticas-de-Bournemouth',\n",
       "  'Fulham': 'https://fbref.com//es/equipos/fd962109/Estadisticas-de-Fulham',\n",
       "  'Brentford': 'https://fbref.com//es/equipos/cd051869/Estadisticas-de-Brentford',\n",
       "  'Crystal Palace': 'https://fbref.com//es/equipos/47c64c55/Estadisticas-de-Crystal-Palace',\n",
       "  \"Nott'ham Forest\": 'https://fbref.com//es/equipos/e4a775cb/Estadisticas-de-Nottingham-Forest',\n",
       "  'Everton': 'https://fbref.com//es/equipos/d3fd31cc/Estadisticas-de-Everton',\n",
       "  'Luton Town': 'https://fbref.com//es/equipos/e297cd13/Estadisticas-de-Luton-Town',\n",
       "  'Burnley': 'https://fbref.com//es/equipos/943e8050/Estadisticas-de-Burnley',\n",
       "  'Sheffield Utd': 'https://fbref.com//es/equipos/1df6b87e/Estadisticas-de-Sheffield-United'},\n",
       " 'la_liga': {'Girona': 'https://fbref.com//es/equipos/9024a00a/Estadisticas-de-Girona',\n",
       "  'Real Madrid': 'https://fbref.com//es/equipos/53a2f082/Estadisticas-de-Real-Madrid',\n",
       "  'Athletic Club': 'https://fbref.com//es/equipos/2b390eca/Estadisticas-de-Athletic-Club',\n",
       "  'Barcelona': 'https://fbref.com//es/equipos/206d90db/Estadisticas-de-Barcelona',\n",
       "  'Atlético Madrid': 'https://fbref.com//es/equipos/db3b9613/Estadisticas-de-Atletico-Madrid',\n",
       "  'Real Sociedad': 'https://fbref.com//es/equipos/e31d1cd9/Estadisticas-de-Real-Sociedad',\n",
       "  'Valencia': 'https://fbref.com//es/equipos/dcc91a7b/Estadisticas-de-Valencia',\n",
       "  'Las Palmas': 'https://fbref.com//es/equipos/0049d422/Estadisticas-de-Las-Palmas',\n",
       "  'Betis': 'https://fbref.com//es/equipos/fc536746/Estadisticas-de-Real-Betis',\n",
       "  'Getafe': 'https://fbref.com//es/equipos/7848bd64/Estadisticas-de-Getafe',\n",
       "  'Alavés': 'https://fbref.com//es/equipos/8d6fd021/Estadisticas-de-Alaves',\n",
       "  'Rayo Vallecano': 'https://fbref.com//es/equipos/98e8af82/Estadisticas-de-Rayo-Vallecano',\n",
       "  'Osasuna': 'https://fbref.com//es/equipos/03c57e2b/Estadisticas-de-Osasuna',\n",
       "  'Villarreal': 'https://fbref.com//es/equipos/2a8183b3/Estadisticas-de-Villarreal',\n",
       "  'Mallorca': 'https://fbref.com//es/equipos/2aa12281/Estadisticas-de-Mallorca',\n",
       "  'Celta Vigo': 'https://fbref.com//es/equipos/f25da7fb/Estadisticas-de-Celta-Vigo',\n",
       "  'Sevilla': 'https://fbref.com//es/equipos/ad2be733/Estadisticas-de-Sevilla',\n",
       "  'Cádiz': 'https://fbref.com//es/equipos/ee7c297c/Estadisticas-de-Cadiz',\n",
       "  'Granada': 'https://fbref.com//es/equipos/a0435291/Estadisticas-de-Granada',\n",
       "  'Almería': 'https://fbref.com//es/equipos/78ecf4bb/Estadisticas-de-Almeria'},\n",
       " 'ligue_1': {'Paris S-G': 'https://fbref.com//es/equipos/e2d8892c/Estadisticas-de-Paris-Saint-Germain',\n",
       "  'Nice': 'https://fbref.com//es/equipos/132ebc33/Estadisticas-de-Nice',\n",
       "  'Brest': 'https://fbref.com//es/equipos/fb08dbb3/Estadisticas-de-Brest',\n",
       "  'Monaco': 'https://fbref.com//es/equipos/fd6114db/Estadisticas-de-Monaco',\n",
       "  'Lille': 'https://fbref.com//es/equipos/cb188c0c/Estadisticas-de-Lille',\n",
       "  'Reims': 'https://fbref.com//es/equipos/7fdd64e0/Estadisticas-de-Reims',\n",
       "  'Marseille': 'https://fbref.com//es/equipos/5725cc7b/Estadisticas-de-Marseille',\n",
       "  'Lens': 'https://fbref.com//es/equipos/fd4e0f7d/Estadisticas-de-Lens',\n",
       "  'Strasbourg': 'https://fbref.com//es/equipos/c0d3eab4/Estadisticas-de-Strasbourg',\n",
       "  'Rennes': 'https://fbref.com//es/equipos/b3072e00/Estadisticas-de-Rennes',\n",
       "  'Le Havre': 'https://fbref.com//es/equipos/5c2737db/Estadisticas-de-Le-Havre',\n",
       "  'Montpellier': 'https://fbref.com//es/equipos/281b0e73/Estadisticas-de-Montpellier',\n",
       "  'Nantes': 'https://fbref.com//es/equipos/d7a486cd/Estadisticas-de-Nantes',\n",
       "  'Toulouse': 'https://fbref.com//es/equipos/3f8c4b5f/Estadisticas-de-Toulouse',\n",
       "  'Metz': 'https://fbref.com//es/equipos/f83960ae/Estadisticas-de-Metz',\n",
       "  'Lyon': 'https://fbref.com//es/equipos/d53c0b06/Estadisticas-de-Lyon',\n",
       "  'Clermont Foot': 'https://fbref.com//es/equipos/d9676424/Estadisticas-de-Clermont-Foot',\n",
       "  'Lorient': 'https://fbref.com//es/equipos/d2c87802/Estadisticas-de-Lorient'},\n",
       " 'serie_a': {'Inter': 'https://fbref.com//es/equipos/d609edc0/Estadisticas-de-Internazionale',\n",
       "  'Juventus': 'https://fbref.com//es/equipos/e0652b02/Estadisticas-de-Juventus',\n",
       "  'Milan': 'https://fbref.com//es/equipos/dc56fe14/Estadisticas-de-Milan',\n",
       "  'Fiorentina': 'https://fbref.com//es/equipos/421387cf/Estadisticas-de-Fiorentina',\n",
       "  'Atalanta': 'https://fbref.com//es/equipos/922493f3/Estadisticas-de-Atalanta',\n",
       "  'Lazio': 'https://fbref.com//es/equipos/7213da33/Estadisticas-de-Lazio',\n",
       "  'Roma': 'https://fbref.com//es/equipos/cf74a709/Estadisticas-de-Roma',\n",
       "  'Bologna': 'https://fbref.com//es/equipos/1d8099f8/Estadisticas-de-Bologna',\n",
       "  'Napoli': 'https://fbref.com//es/equipos/d48ad4ff/Estadisticas-de-Napoli',\n",
       "  'Torino': 'https://fbref.com//es/equipos/105360fe/Estadisticas-de-Torino',\n",
       "  'Monza': 'https://fbref.com//es/equipos/21680aa4/Estadisticas-de-Monza',\n",
       "  'Genoa': 'https://fbref.com//es/equipos/658bf2de/Estadisticas-de-Genoa',\n",
       "  'Lecce': 'https://fbref.com//es/equipos/ffcbe334/Estadisticas-de-Lecce',\n",
       "  'Sassuolo': 'https://fbref.com//es/equipos/e2befd26/Estadisticas-de-Sassuolo',\n",
       "  'Frosinone': 'https://fbref.com//es/equipos/6a7ad59d/Estadisticas-de-Frosinone',\n",
       "  'Udinese': 'https://fbref.com//es/equipos/04eea015/Estadisticas-de-Udinese',\n",
       "  'Cagliari': 'https://fbref.com//es/equipos/c4260e09/Estadisticas-de-Cagliari',\n",
       "  'Hellas Verona': 'https://fbref.com//es/equipos/0e72edf2/Estadisticas-de-Hellas-Verona',\n",
       "  'Empoli': 'https://fbref.com//es/equipos/a3d88bd8/Estadisticas-de-Empoli',\n",
       "  'Salernitana': 'https://fbref.com//es/equipos/c5577084/Estadisticas-de-Salernitana'},\n",
       " 'bundesliga': {'Leverkusen': 'https://fbref.com//es/equipos/c7a9f859/Estadisticas-de-Bayer-Leverkusen',\n",
       "  'Bayern Munich': 'https://fbref.com//es/equipos/054efa67/Estadisticas-de-Bayern-Munich',\n",
       "  'Stuttgart': 'https://fbref.com//es/equipos/598bc722/Estadisticas-de-Stuttgart',\n",
       "  'RB Leipzig': 'https://fbref.com//es/equipos/acbb6a5b/Estadisticas-de-RB-Leipzig',\n",
       "  'Dortmund': 'https://fbref.com//es/equipos/add600ae/Estadisticas-de-Dortmund',\n",
       "  'Eint Frankfurt': 'https://fbref.com//es/equipos/f0ac8ee6/Estadisticas-de-Eintracht-Frankfurt',\n",
       "  'Freiburg': 'https://fbref.com//es/equipos/a486e511/Estadisticas-de-Freiburg',\n",
       "  'Hoffenheim': 'https://fbref.com//es/equipos/033ea6b8/Estadisticas-de-Hoffenheim',\n",
       "  'Heidenheim': 'https://fbref.com//es/equipos/18d9d2a7/Estadisticas-de-Heidenheim',\n",
       "  'Wolfsburg': 'https://fbref.com//es/equipos/4eaa11d7/Estadisticas-de-Wolfsburg',\n",
       "  \"M'Gladbach\": 'https://fbref.com//es/equipos/32f3ee20/Estadisticas-de-Monchengladbach',\n",
       "  'Bochum': 'https://fbref.com//es/equipos/b42c6323/Estadisticas-de-Bochum',\n",
       "  'Augsburg': 'https://fbref.com//es/equipos/0cdc4311/Estadisticas-de-Augsburg',\n",
       "  'Werder Bremen': 'https://fbref.com//es/equipos/62add3bf/Estadisticas-de-Werder-Bremen',\n",
       "  'Union Berlin': 'https://fbref.com//es/equipos/7a41008f/Estadisticas-de-Union-Berlin',\n",
       "  'Mainz 05': 'https://fbref.com//es/equipos/a224b06a/Estadisticas-de-Mainz-05',\n",
       "  'Köln': 'https://fbref.com//es/equipos/bc357bf7/Estadisticas-de-Koln',\n",
       "  'Darmstadt 98': 'https://fbref.com//es/equipos/6a6967fc/Estadisticas-de-Darmstadt-98'}}"
      ]
     },
     "execution_count": 72,
     "metadata": {},
     "output_type": "execute_result"
    }
   ],
   "source": [
    "url_teams"
   ]
  }
 ],
 "metadata": {
  "kernelspec": {
   "display_name": "Python 3 (ipykernel)",
   "language": "python",
   "name": "python3"
  },
  "language_info": {
   "codemirror_mode": {
    "name": "ipython",
    "version": 3
   },
   "file_extension": ".py",
   "mimetype": "text/x-python",
   "name": "python",
   "nbconvert_exporter": "python",
   "pygments_lexer": "ipython3",
   "version": "3.9.0"
  }
 },
 "nbformat": 4,
 "nbformat_minor": 5
}
